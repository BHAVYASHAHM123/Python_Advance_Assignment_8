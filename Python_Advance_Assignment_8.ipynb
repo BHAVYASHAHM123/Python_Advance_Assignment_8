{
  "nbformat": 4,
  "nbformat_minor": 0,
  "metadata": {
    "colab": {
      "name": "Python_Advance_Assignment_8.ipynb",
      "provenance": []
    },
    "kernelspec": {
      "name": "python3",
      "display_name": "Python 3"
    },
    "language_info": {
      "name": "python"
    }
  },
  "cells": [
    {
      "cell_type": "markdown",
      "source": [
        "Q1). What are the two latest user-defined exception constraints in Python 3.X?\n",
        "\n",
        "Ans) In Python, users can define custom exceptions by creating a new class. This exception class has to be derived, either directly or indirectly, from the built-in Exception class. Most of the built-in exceptions are also derived from this class."
      ],
      "metadata": {
        "id": "1uW81cSjWdOh"
      }
    },
    {
      "cell_type": "markdown",
      "source": [
        "Q2). How are class-based exceptions that have been raised matched to handlers?\n",
        "\n",
        "Ans) If a class-based exception is not handled in a procedure, the system attempts to propagate it to the caller of the procedure."
      ],
      "metadata": {
        "id": "fxMmBcfjWdLI"
      }
    },
    {
      "cell_type": "markdown",
      "source": [
        "Q4). Describe two methods for specifying the text of an exception object's error message.\n",
        "\n",
        "Ans) two methods for specifying the text of an exception object's error message are try, finnaly."
      ],
      "metadata": {
        "id": "8Ecul8i3WdIN"
      }
    },
    {
      "cell_type": "markdown",
      "source": [
        "Q5). Why do you no longer use string-based exceptions?\n",
        "\n",
        "Ans) Instead of string based exception there should be system defined exception.\n",
        "Because it will clerify the error more."
      ],
      "metadata": {
        "id": "HsrTmoefWdC1"
      }
    },
    {
      "cell_type": "code",
      "execution_count": null,
      "metadata": {
        "id": "M3iwJbe6WWlA"
      },
      "outputs": [],
      "source": [
        ""
      ]
    }
  ]
}